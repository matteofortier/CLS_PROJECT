{
 "cells": [
  {
   "cell_type": "code",
   "execution_count": 141,
   "metadata": {},
   "outputs": [],
   "source": [
    "import pandas as pd\n",
    "import numpy as np\n",
    "import seaborn as sns\n",
    "\n",
    "from sklearn.preprocessing import MultiLabelBinarizer\n",
    "from sklearn.tree import DecisionTreeClassifier\n",
    "from sklearn.ensemble import RandomForestClassifier\n",
    "from sklearn.pipeline import Pipeline\n",
    "from sklearn.impute import SimpleImputer\n",
    "from sklearn.preprocessing import StandardScaler, OneHotEncoder\n",
    "from sklearn.metrics import f1_score, recall_score, precision_score, fbeta_score\n",
    "\n",
    "from sklearn.model_selection import train_test_split"
   ]
  },
  {
   "cell_type": "code",
   "execution_count": 142,
   "metadata": {},
   "outputs": [],
   "source": [
    "from sklearn.base import TransformerMixin #gives fit_transform method for free\n",
    "\n",
    "class MultiLabelEncoder(TransformerMixin):\n",
    "    def __init__(self, *args, **kwargs):\n",
    "        self.encoder = MultiLabelBinarizer(*args, **kwargs)\n",
    "    def fit(self, x, y=0):\n",
    "        self.encoder.fit(x)\n",
    "        self.classes_ = self.encoder.classes_\n",
    "        return self\n",
    "    def transform(self, x, y=0):\n",
    "        return self.encoder.transform(x)"
   ]
  },
  {
   "cell_type": "code",
   "execution_count": 143,
   "metadata": {},
   "outputs": [],
   "source": [
    "df = pd.read_csv('data/combined_cleaned.csv')\n",
    "df['genres'] = df['genres'].str.split(', ')\n",
    "df['tags'] = df['tags'].str.split(', ')\n",
    "df['categories'] = df['categories'].str.split(', ')\n",
    "\n",
    "\n",
    "\n",
    "df['target'] = (df['average_2weeks'] > 500).astype(int)"
   ]
  },
  {
   "cell_type": "code",
   "execution_count": 144,
   "metadata": {},
   "outputs": [
    {
     "data": {
      "text/plain": [
       "count    41915.000000\n",
       "mean         0.004772\n",
       "std          0.068912\n",
       "min          0.000000\n",
       "25%          0.000000\n",
       "50%          0.000000\n",
       "75%          0.000000\n",
       "max          1.000000\n",
       "Name: target, dtype: float64"
      ]
     },
     "execution_count": 144,
     "metadata": {},
     "output_type": "execute_result"
    }
   ],
   "source": [
    "df['target'].describe()"
   ]
  },
  {
   "cell_type": "code",
   "execution_count": 145,
   "metadata": {},
   "outputs": [],
   "source": [
    "\n"
   ]
  },
  {
   "cell_type": "code",
   "execution_count": 146,
   "metadata": {},
   "outputs": [
    {
     "data": {
      "text/plain": [
       "array([[0, 1, 0, ..., 0, 0, 0],\n",
       "       [0, 1, 0, ..., 0, 0, 0],\n",
       "       [0, 1, 0, ..., 0, 0, 0],\n",
       "       ...,\n",
       "       [0, 0, 1, ..., 0, 0, 0],\n",
       "       [0, 0, 1, ..., 1, 0, 0],\n",
       "       [0, 1, 0, ..., 0, 0, 0]])"
      ]
     },
     "execution_count": 146,
     "metadata": {},
     "output_type": "execute_result"
    }
   ],
   "source": [
    "mlb.fit_transform(df['genres'])"
   ]
  },
  {
   "cell_type": "code",
   "execution_count": 155,
   "metadata": {},
   "outputs": [
    {
     "name": "stdout",
     "output_type": "stream",
     "text": [
      "precision:  0.15789473684210525\n",
      "recall:  0.06382978723404255\n",
      "f1 : 0.0909090909090909\n"
     ]
    }
   ],
   "source": [
    "\n",
    "rf =  RandomForestClassifier(1000,class_weight={1: 10, 0: 1})\n",
    "rf.fit(X_train,y_train)\n",
    "y_predict = rf.predict(X_test)\n",
    "print('precision: ', precision_score(y_test,y_predict))\n",
    "print('recall: ', recall_score(y_test,y_predict))\n",
    "print('f1 :', f1_score(y_test, y_predict))"
   ]
  },
  {
   "cell_type": "code",
   "execution_count": 159,
   "metadata": {},
   "outputs": [
    {
     "name": "stdout",
     "output_type": "stream",
     "text": [
      "precision:  0.058823529411764705\n",
      "recall:  0.10638297872340426\n",
      "f1 : 0.07575757575757576\n"
     ]
    }
   ],
   "source": [
    "mlb = MultiLabelEncoder()\n",
    "\n",
    "rf =  RandomForestClassifier(1000,class_weight={1: 20, 0: 1})\n",
    "rf.fit(X_train,y_train)\n",
    "y_predict = rf.predict(X_test)\n",
    "print('precision: ', precision_score(y_test,y_predict))\n",
    "print('recall: ', recall_score(y_test,y_predict))\n",
    "print('f1 :', f1_score(y_test, y_predict))"
   ]
  },
  {
   "cell_type": "code",
   "execution_count": 160,
   "metadata": {},
   "outputs": [
    {
     "name": "stdout",
     "output_type": "stream",
     "text": [
      "precision:  0.02557755775577558\n",
      "recall:  0.6595744680851063\n",
      "f1 : 0.04924543288324067\n"
     ]
    }
   ],
   "source": [
    "mlb = MultiLabelEncoder()\n",
    "\n",
    "rf =  RandomForestClassifier(1000,class_weight='balanced')\n",
    "rf.fit(X_train,y_train)\n",
    "y_predict = rf.predict(X_test)\n",
    "print('precision: ', precision_score(y_test,y_predict))\n",
    "print('recall: ', recall_score(y_test,y_predict))\n",
    "print('f1 :', f1_score(y_test, y_predict))"
   ]
  },
  {
   "cell_type": "code",
   "execution_count": 161,
   "metadata": {},
   "outputs": [
    {
     "name": "stdout",
     "output_type": "stream",
     "text": [
      "precision:  1.0\n",
      "recall:  0.02127659574468085\n",
      "f1 : 0.04166666666666667\n"
     ]
    }
   ],
   "source": [
    "mlb = MultiLabelEncoder()\n",
    "\n",
    "rf =  RandomForestClassifier(1000)\n",
    "rf.fit(X_train,y_train)\n",
    "y_predict = rf.predict(X_test)\n",
    "print('precision: ', precision_score(y_test,y_predict))\n",
    "print('recall: ', recall_score(y_test,y_predict))\n",
    "print('f1 :', f1_score(y_test, y_predict))"
   ]
  },
  {
   "cell_type": "code",
   "execution_count": 148,
   "metadata": {},
   "outputs": [
    {
     "data": {
      "text/plain": [
       "count    8383.000000\n",
       "mean        0.005607\n",
       "std         0.074671\n",
       "min         0.000000\n",
       "25%         0.000000\n",
       "50%         0.000000\n",
       "75%         0.000000\n",
       "max         1.000000\n",
       "Name: target, dtype: float64"
      ]
     },
     "execution_count": 148,
     "metadata": {},
     "output_type": "execute_result"
    }
   ],
   "source": [
    "y_test.describe()"
   ]
  },
  {
   "cell_type": "code",
   "execution_count": null,
   "metadata": {},
   "outputs": [],
   "source": [
    "\n"
   ]
  },
  {
   "cell_type": "code",
   "execution_count": null,
   "metadata": {},
   "outputs": [],
   "source": []
  },
  {
   "cell_type": "code",
   "execution_count": null,
   "metadata": {},
   "outputs": [],
   "source": []
  }
 ],
 "metadata": {
  "kernelspec": {
   "display_name": "Python 3",
   "language": "python",
   "name": "python3"
  },
  "language_info": {
   "codemirror_mode": {
    "name": "ipython",
    "version": 3
   },
   "file_extension": ".py",
   "mimetype": "text/x-python",
   "name": "python",
   "nbconvert_exporter": "python",
   "pygments_lexer": "ipython3",
   "version": "3.8.5"
  }
 },
 "nbformat": 4,
 "nbformat_minor": 4
}
