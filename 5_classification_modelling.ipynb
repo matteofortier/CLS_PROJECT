{
 "cells": [
  {
   "cell_type": "code",
   "execution_count": 324,
   "metadata": {},
   "outputs": [],
   "source": [
    "import pandas as pd\n",
    "import numpy as np\n",
    "import seaborn as sns\n",
    "\n",
    "# PREPROCESSING MODULES\n",
    "from sklearn.model_selection import train_test_split\n",
    "\n",
    "from sklearn.pipeline import Pipeline\n",
    "from sklearn.compose import ColumnTransformer\n",
    "from sklearn.base import BaseEstimator, TransformerMixin\n",
    "\n",
    "from sklearn.preprocessing import MultiLabelBinarizer\n",
    "from sklearn.impute import SimpleImputer\n",
    "\n",
    "\n",
    "# CLASSIFIER MODULES\n",
    "from sklearn.tree import DecisionTreeClassifier\n",
    "from sklearn.ensemble import RandomForestClassifier\n",
    "\n",
    "# METRIC MODULES\n",
    "from sklearn.metrics import f1_score, recall_score, precision_score, fbeta_score, confusion_matrix\n",
    "\n"
   ]
  },
  {
   "cell_type": "code",
   "execution_count": 326,
   "metadata": {},
   "outputs": [
    {
     "data": {
      "text/html": [
       "<div>\n",
       "<style scoped>\n",
       "    .dataframe tbody tr th:only-of-type {\n",
       "        vertical-align: middle;\n",
       "    }\n",
       "\n",
       "    .dataframe tbody tr th {\n",
       "        vertical-align: top;\n",
       "    }\n",
       "\n",
       "    .dataframe thead th {\n",
       "        text-align: right;\n",
       "    }\n",
       "</style>\n",
       "<table border=\"1\" class=\"dataframe\">\n",
       "  <thead>\n",
       "    <tr style=\"text-align: right;\">\n",
       "      <th></th>\n",
       "      <th>tags</th>\n",
       "      <th>genres</th>\n",
       "      <th>categories</th>\n",
       "      <th>platforms</th>\n",
       "      <th>owners</th>\n",
       "    </tr>\n",
       "  </thead>\n",
       "  <tbody>\n",
       "    <tr>\n",
       "      <th>12536</th>\n",
       "      <td>[RPG, Indie, Gore, Violent, Nudity, Sexual Con...</td>\n",
       "      <td>[Indie, RPG]</td>\n",
       "      <td>[Single-player, Steam Achievements, Steam Trad...</td>\n",
       "      <td>[windows]</td>\n",
       "      <td>50000</td>\n",
       "    </tr>\n",
       "    <tr>\n",
       "      <th>8913</th>\n",
       "      <td>[Indie, Casual, 4 Player Local, Local Multipla...</td>\n",
       "      <td>[Casual, Indie]</td>\n",
       "      <td>[Multi-player, PvP, Shared/Split Screen PvP, C...</td>\n",
       "      <td>[windows, linux]</td>\n",
       "      <td>20000</td>\n",
       "    </tr>\n",
       "    <tr>\n",
       "      <th>1318</th>\n",
       "      <td>[Bullet Hell, Anime, Shoot 'Em Up, Action, Ind...</td>\n",
       "      <td>[Action, Indie]</td>\n",
       "      <td>[Single-player, Steam Trading Cards]</td>\n",
       "      <td>[windows]</td>\n",
       "      <td>100000</td>\n",
       "    </tr>\n",
       "    <tr>\n",
       "      <th>22158</th>\n",
       "      <td>[Simulation, Medical Sim, Education, Realistic...</td>\n",
       "      <td>[Indie, Simulation, Early Access]</td>\n",
       "      <td>[Single-player]</td>\n",
       "      <td>[windows]</td>\n",
       "      <td>50000</td>\n",
       "    </tr>\n",
       "    <tr>\n",
       "      <th>5068</th>\n",
       "      <td>[Adventure, Indie, Point &amp; Click, Sci-fi, Comedy]</td>\n",
       "      <td>[Adventure, Indie]</td>\n",
       "      <td>[Single-player, Steam Achievements, Steam Trad...</td>\n",
       "      <td>[windows]</td>\n",
       "      <td>20000</td>\n",
       "    </tr>\n",
       "    <tr>\n",
       "      <th>...</th>\n",
       "      <td>...</td>\n",
       "      <td>...</td>\n",
       "      <td>...</td>\n",
       "      <td>...</td>\n",
       "      <td>...</td>\n",
       "    </tr>\n",
       "    <tr>\n",
       "      <th>6265</th>\n",
       "      <td>[Indie, Casual, Action, Platformer, Puzzle-Pla...</td>\n",
       "      <td>[Action, Casual, Indie]</td>\n",
       "      <td>[Single-player, Steam Trading Cards]</td>\n",
       "      <td>[windows, mac]</td>\n",
       "      <td>50000</td>\n",
       "    </tr>\n",
       "    <tr>\n",
       "      <th>11284</th>\n",
       "      <td>[Indie, Simulation, RPG, Casual, Anime, Capita...</td>\n",
       "      <td>[Casual, Indie, RPG, Simulation]</td>\n",
       "      <td>[Single-player, Steam Achievements]</td>\n",
       "      <td>[windows]</td>\n",
       "      <td>20000</td>\n",
       "    </tr>\n",
       "    <tr>\n",
       "      <th>38158</th>\n",
       "      <td>[Adventure, Casual, Platformer, Stealth, 2D Pl...</td>\n",
       "      <td>[Adventure, Casual, Indie]</td>\n",
       "      <td>[Single-player, Steam Achievements]</td>\n",
       "      <td>[windows, linux]</td>\n",
       "      <td>20000</td>\n",
       "    </tr>\n",
       "    <tr>\n",
       "      <th>860</th>\n",
       "      <td>[Strategy, RPG, Space, Sci-fi]</td>\n",
       "      <td>[RPG, Strategy]</td>\n",
       "      <td>[Single-player]</td>\n",
       "      <td>[windows]</td>\n",
       "      <td>100000</td>\n",
       "    </tr>\n",
       "    <tr>\n",
       "      <th>15795</th>\n",
       "      <td>[Free to Play, FPS, Arena Shooter, Multiplayer...</td>\n",
       "      <td>[Action, Free to Play, Indie]</td>\n",
       "      <td>[Single-player, Multi-player, PvP, Online PvP,...</td>\n",
       "      <td>[windows, linux]</td>\n",
       "      <td>5000000</td>\n",
       "    </tr>\n",
       "  </tbody>\n",
       "</table>\n",
       "<p>33428 rows × 5 columns</p>\n",
       "</div>"
      ],
      "text/plain": [
       "                                                    tags  \\\n",
       "12536  [RPG, Indie, Gore, Violent, Nudity, Sexual Con...   \n",
       "8913   [Indie, Casual, 4 Player Local, Local Multipla...   \n",
       "1318   [Bullet Hell, Anime, Shoot 'Em Up, Action, Ind...   \n",
       "22158  [Simulation, Medical Sim, Education, Realistic...   \n",
       "5068   [Adventure, Indie, Point & Click, Sci-fi, Comedy]   \n",
       "...                                                  ...   \n",
       "6265   [Indie, Casual, Action, Platformer, Puzzle-Pla...   \n",
       "11284  [Indie, Simulation, RPG, Casual, Anime, Capita...   \n",
       "38158  [Adventure, Casual, Platformer, Stealth, 2D Pl...   \n",
       "860                       [Strategy, RPG, Space, Sci-fi]   \n",
       "15795  [Free to Play, FPS, Arena Shooter, Multiplayer...   \n",
       "\n",
       "                                  genres  \\\n",
       "12536                       [Indie, RPG]   \n",
       "8913                     [Casual, Indie]   \n",
       "1318                     [Action, Indie]   \n",
       "22158  [Indie, Simulation, Early Access]   \n",
       "5068                  [Adventure, Indie]   \n",
       "...                                  ...   \n",
       "6265             [Action, Casual, Indie]   \n",
       "11284   [Casual, Indie, RPG, Simulation]   \n",
       "38158         [Adventure, Casual, Indie]   \n",
       "860                      [RPG, Strategy]   \n",
       "15795      [Action, Free to Play, Indie]   \n",
       "\n",
       "                                              categories         platforms  \\\n",
       "12536  [Single-player, Steam Achievements, Steam Trad...         [windows]   \n",
       "8913   [Multi-player, PvP, Shared/Split Screen PvP, C...  [windows, linux]   \n",
       "1318                [Single-player, Steam Trading Cards]         [windows]   \n",
       "22158                                    [Single-player]         [windows]   \n",
       "5068   [Single-player, Steam Achievements, Steam Trad...         [windows]   \n",
       "...                                                  ...               ...   \n",
       "6265                [Single-player, Steam Trading Cards]    [windows, mac]   \n",
       "11284                [Single-player, Steam Achievements]         [windows]   \n",
       "38158                [Single-player, Steam Achievements]  [windows, linux]   \n",
       "860                                      [Single-player]         [windows]   \n",
       "15795  [Single-player, Multi-player, PvP, Online PvP,...  [windows, linux]   \n",
       "\n",
       "        owners  \n",
       "12536    50000  \n",
       "8913     20000  \n",
       "1318    100000  \n",
       "22158    50000  \n",
       "5068     20000  \n",
       "...        ...  \n",
       "6265     50000  \n",
       "11284    20000  \n",
       "38158    20000  \n",
       "860     100000  \n",
       "15795  5000000  \n",
       "\n",
       "[33428 rows x 5 columns]"
      ]
     },
     "execution_count": 326,
     "metadata": {},
     "output_type": "execute_result"
    }
   ],
   "source": [
    "df = pd.read_csv('data/combined_cleaned.csv')\n",
    "df['genres'] = df['genres'].str.split(', ')\n",
    "df['tags'] = df['tags'].str.split(', ')\n",
    "df['platforms'] = df['platforms'].str.split(', ')\n",
    "df['categories'] = df['categories'].str.split(', ')\n",
    "df['supported_languages'] = df['supported_languages'].str.split(', ')\n",
    "\n",
    "\n",
    "\n",
    "# df['target'] = (df['average_2weeks'] > 500).astype(int)\n",
    "\n",
    "df['target'] = (df['hours_over_age'] >= 1).astype(int)\n",
    "\n",
    "\n",
    "X_train, X_test, y_train, y_test = train_test_split(df[['tags','genres','categories','platforms','owners']], df['target'], test_size=0.2,random_state=42)\n",
    "X_train"
   ]
  },
  {
   "cell_type": "code",
   "execution_count": 300,
   "metadata": {
    "jupyter": {
     "source_hidden": true
    }
   },
   "outputs": [],
   "source": [
    "class MultiHotEncoder(BaseEstimator, TransformerMixin):\n",
    "    \"\"\"Wraps `MultiLabelBinarizer` in a form that can work with `ColumnTransformer`. Note\n",
    "    that input X has to be a `pandas.DataFrame`.\n",
    "    \"\"\"\n",
    "    def __init__(self):\n",
    "        self.mlbs = list()\n",
    "        self.n_columns = 0\n",
    "        self.categories_ = self.classes_ = list()\n",
    "\n",
    "    def fit(self, X:pd.DataFrame, y=None):\n",
    "        for i in range(X.shape[1]): # X can be of multiple columns\n",
    "            mlb = MultiLabelBinarizer()\n",
    "            mlb.fit(X.iloc[:,i])\n",
    "            self.mlbs.append(mlb)\n",
    "            self.classes_.append(mlb.classes_)\n",
    "            self.n_columns += 1\n",
    "        return self\n",
    "\n",
    "    def transform(self, X:pd.DataFrame):\n",
    "        if self.n_columns == 0:\n",
    "            raise ValueError('Please fit the transformer first.')\n",
    "        if self.n_columns != X.shape[1]:\n",
    "            raise ValueError(f'The fit transformer deals with {self.n_columns} columns '\n",
    "                             f'while the input has {X.shape[1]}.'\n",
    "                            )\n",
    "        result = list()\n",
    "        for i in range(self.n_columns):\n",
    "            result.append(self.mlbs[i].transform(X.iloc[:,i]))\n",
    "\n",
    "        result = np.concatenate(result, axis=1)\n",
    "        return result"
   ]
  },
  {
   "cell_type": "code",
   "execution_count": 327,
   "metadata": {},
   "outputs": [
    {
     "name": "stdout",
     "output_type": "stream",
     "text": [
      "numeric_features Index(['owners'], dtype='object')\n",
      "categorical_features Index(['tags', 'genres', 'categories', 'platforms'], dtype='object')\n"
     ]
    }
   ],
   "source": [
    "numeric_transformer = Pipeline(steps=[\n",
    "    ('imputer', SimpleImputer(strategy='median')),\n",
    "#     ('scaler', StandardScaler())\n",
    "])\n",
    "\n",
    "categorical_transformer = Pipeline(steps=[\n",
    "    ('multihot', MultiHotEncoder())])\n",
    "\n",
    "numeric_features = X_train.select_dtypes(include=['int64', 'float64']).columns\n",
    "print('numeric_features',numeric_features)\n",
    "categorical_features = X_train.select_dtypes(include=['object']).columns\n",
    "print('categorical_features',categorical_features)\n",
    "\n",
    "\n",
    "\n",
    "preprocessor = ColumnTransformer(\n",
    "    transformers=[\n",
    "        ('num', numeric_transformer, numeric_features),\n",
    "        ('cat', categorical_transformer, categorical_features)\n",
    "    \n",
    "    ])\n",
    "\n",
    "rf = Pipeline(steps=[('preprocessor', preprocessor),\n",
    "                      ('classifier', RandomForestClassifier(1000,class_weight={1: 10, 0: 1}))])"
   ]
  },
  {
   "cell_type": "code",
   "execution_count": 307,
   "metadata": {},
   "outputs": [
    {
     "name": "stderr",
     "output_type": "stream",
     "text": [
      "/Users/matteofortier/opt/anaconda3/lib/python3.8/site-packages/sklearn/preprocessing/_label.py:994: UserWarning: unknown class(es) ['Mods'] will be ignored\n",
      "  warnings.warn('unknown class(es) {0} will be ignored'\n"
     ]
    },
    {
     "name": "stdout",
     "output_type": "stream",
     "text": [
      "precision:  0.9375\n",
      "recall:  0.06382978723404255\n",
      "f1 : 0.1195219123505976\n"
     ]
    },
    {
     "data": {
      "text/plain": [
       "16"
      ]
     },
     "execution_count": 307,
     "metadata": {},
     "output_type": "execute_result"
    }
   ],
   "source": [
    "rf.fit(X_train,y_train)\n",
    "y_predict = rf.predict(X_test)\n",
    "print('precision: ', precision_score(y_test,y_predict))\n",
    "print('recall: ', recall_score(y_test,y_predict))\n",
    "print('f1 :', f1_score(y_test, y_predict))\n",
    "np.sum(y_predict)"
   ]
  },
  {
   "cell_type": "code",
   "execution_count": 328,
   "metadata": {},
   "outputs": [
    {
     "name": "stderr",
     "output_type": "stream",
     "text": [
      "/Users/matteofortier/opt/anaconda3/lib/python3.8/site-packages/sklearn/preprocessing/_label.py:994: UserWarning: unknown class(es) ['Mods'] will be ignored\n",
      "  warnings.warn('unknown class(es) {0} will be ignored'\n"
     ]
    },
    {
     "name": "stdout",
     "output_type": "stream",
     "text": [
      "precision:  0.8666666666666667\n",
      "recall:  0.05531914893617021\n",
      "f1 : 0.10400000000000001\n"
     ]
    },
    {
     "data": {
      "text/plain": [
       "array([[8121,    2],\n",
       "       [ 222,   13]])"
      ]
     },
     "execution_count": 328,
     "metadata": {},
     "output_type": "execute_result"
    }
   ],
   "source": [
    "rf.fit(X_train,y_train)\n",
    "y_predict = rf.predict(X_test)\n",
    "print('precision: ', precision_score(y_test,y_predict))\n",
    "print('recall: ', recall_score(y_test,y_predict))\n",
    "print('f1 :', f1_score(y_test, y_predict))\n",
    "confusion_matrix(y_test, y_predict)\n",
    "\n"
   ]
  },
  {
   "cell_type": "code",
   "execution_count": 322,
   "metadata": {},
   "outputs": [
    {
     "name": "stderr",
     "output_type": "stream",
     "text": [
      "/Users/matteofortier/opt/anaconda3/lib/python3.8/site-packages/sklearn/preprocessing/_label.py:994: UserWarning: unknown class(es) ['\\r\\nFrench', '\\r\\nGerman', 'Hungarian,Polish'] will be ignored\n",
      "  warnings.warn('unknown class(es) {0} will be ignored'\n",
      "/Users/matteofortier/opt/anaconda3/lib/python3.8/site-packages/sklearn/preprocessing/_label.py:994: UserWarning: unknown class(es) ['Mods'] will be ignored\n",
      "  warnings.warn('unknown class(es) {0} will be ignored'\n"
     ]
    },
    {
     "name": "stdout",
     "output_type": "stream",
     "text": [
      "precision:  0.625\n",
      "recall:  0.06382978723404255\n",
      "f1 : 0.11583011583011582\n"
     ]
    },
    {
     "data": {
      "text/plain": [
       "24"
      ]
     },
     "execution_count": 322,
     "metadata": {},
     "output_type": "execute_result"
    }
   ],
   "source": [
    "rf.fit(X_train,y_train)\n",
    "y_predict = rf.predict(X_test)\n",
    "print('precision: ', precision_score(y_test,y_predict))\n",
    "print('recall: ', recall_score(y_test,y_predict))\n",
    "print('f1 :', f1_score(y_test, y_predict))\n",
    "np.sum(y_predict)"
   ]
  },
  {
   "cell_type": "code",
   "execution_count": 323,
   "metadata": {},
   "outputs": [
    {
     "data": {
      "text/plain": [
       "MultiHotEncoder()"
      ]
     },
     "execution_count": 323,
     "metadata": {},
     "output_type": "execute_result"
    }
   ],
   "source": [
    "mhe MultiHotEncoder()"
   ]
  },
  {
   "cell_type": "code",
   "execution_count": null,
   "metadata": {},
   "outputs": [],
   "source": []
  }
 ],
 "metadata": {
  "kernelspec": {
   "display_name": "Python 3",
   "language": "python",
   "name": "python3"
  },
  "language_info": {
   "codemirror_mode": {
    "name": "ipython",
    "version": 3
   },
   "file_extension": ".py",
   "mimetype": "text/x-python",
   "name": "python",
   "nbconvert_exporter": "python",
   "pygments_lexer": "ipython3",
   "version": "3.8.5"
  }
 },
 "nbformat": 4,
 "nbformat_minor": 4
}
